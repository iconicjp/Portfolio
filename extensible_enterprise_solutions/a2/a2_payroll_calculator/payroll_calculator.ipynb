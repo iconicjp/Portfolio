{
 "cells": [
  {
   "cell_type": "code",
   "execution_count": 1,
   "id": "0b61346c",
   "metadata": {},
   "outputs": [],
   "source": [
    "def get_requirements():\n",
    "    \"\"\"\n",
    "    This module prints the requiremnents of the Assignment\n",
    "    \"\"\"\n",
    "    print(\"Developer: Jevon Price\")\n",
    "    print(\"Payroll Calculator\")\n",
    "    print(\"Program Requirements:\\n\"\n",
    "          + \"1. Must use float data type for user input.\\n\"\n",
    "          + \"2. Overtime rate: 1.5 times hourly rate (hours over 40).\\n\"\n",
    "          + \"3. Holiday rate: 2.0 times hourly rate (all holiday hours).\\n\"\n",
    "          + \"4. Must format currency with dollar sign, and round to two decimal places.\\n\"\n",
    "          + \"5. Create at least three functions that are called by the program:\\n\"\n",
    "          + \"\\ta. main(): calls at least two other functions.\\n\"\n",
    "          + \"\\tb. get-requirements(): displays the program requirements.\\n\"\n",
    "          + \"\\tc. calculate_payroll(): calculates an individual one-week paycheck.\\n\")"
   ]
  },
  {
   "cell_type": "code",
   "execution_count": 2,
   "id": "52a3a244",
   "metadata": {},
   "outputs": [],
   "source": [
    "def calculate_payroll():\n",
    "    \"\"\"\n",
    "    Gets user input and does the calculations to determine pay\n",
    "    \"\"\"\n",
    "    #Set constants\n",
    "    BASE_HOURS = 40\n",
    "    OT_RATE = 1.5\n",
    "    HOLIDAY_RATE = 2\n",
    "\n",
    "    #Get user inputs\n",
    "    print(\"Input: \")\n",
    "\n",
    "    hours_worked = float(input(\"Enter hours worked: \"))\n",
    "    hol_hours = float(input(\"Enter holiday hours worked: \"))\n",
    "    pay_rate = float(input(\"Enter hourly pay rate: \"))\n",
    "\n",
    "    #Calculations\n",
    "    base_pay = BASE_HOURS * pay_rate\n",
    "    over_hours = hours_worked - BASE_HOURS\n",
    "\n",
    "\n",
    "    if hours_worked > BASE_HOURS:\n",
    "        #Pay with overtime\n",
    "        over_pay = over_hours * pay_rate * OT_RATE #OT pay\n",
    "        holiday_pay = hol_hours * pay_rate * HOLIDAY_RATE #holiday pay\n",
    "        gross_pay = base_pay + over_pay + holiday_pay\n",
    "\n",
    "        print_pay(base_pay, holiday_pay, gross_pay, over_pay)\n",
    "\n",
    "    else:\n",
    "        #Pay w/o OT\n",
    "        base_pay = hours_worked * pay_rate\n",
    "        holiday_pay = hol_hours * pay_rate * HOLIDAY_RATE #holiday pay\n",
    "        gross_pay = (hours_worked * pay_rate) + holiday_pay\n",
    "\n",
    "        print_pay(base_pay, holiday_pay, gross_pay)"
   ]
  },
  {
   "cell_type": "code",
   "execution_count": 3,
   "id": "29304480",
   "metadata": {},
   "outputs": [],
   "source": [
    "def print_pay(base_pay, holiday_pay, gross_pay, over_pay = 0.0):\n",
    "    \"\"\"\n",
    "    Accepts the base, holiday, overtime, and gross pay \n",
    "    and prints a formatted string of those values\n",
    "    \"\"\"\n",
    "    print(\"\\nOutput: \")\n",
    "    print(f\"{'Base: ':<10} ${base_pay:,.2f}\")\n",
    "    print(f\"{'Overtime: ':<10} ${over_pay:,.2f}\")\n",
    "    print(f\"{'Holiday: ':<10} ${holiday_pay:,.2f}\")\n",
    "    print(f\"{'Gross: ':<10} ${gross_pay:,.2f}\")"
   ]
  },
  {
   "cell_type": "code",
   "execution_count": 4,
   "id": "aac9e0b4",
   "metadata": {},
   "outputs": [
    {
     "name": "stdout",
     "output_type": "stream",
     "text": [
      "Developer: Jevon Price\n",
      "Payroll Calculator\n",
      "Program Requirements:\n",
      "1. Must use float data type for user input.\n",
      "2. Overtime rate: 1.5 times hourly rate (hours over 40).\n",
      "3. Holiday rate: 2.0 times hourly rate (all holiday hours).\n",
      "4. Must format currency with dollar sign, and round to two decimal places.\n",
      "5. Create at least three functions that are called by the program:\n",
      "\ta. main(): calls at least two other functions.\n",
      "\tb. get-requirements(): displays the program requirements.\n",
      "\tc. calculate_payroll(): calculates an individual one-week paycheck.\n",
      "\n",
      "Input: \n",
      "Enter hours worked: 40\n",
      "Enter holiday hours worked: 10\n",
      "Enter hourly pay rate: 10\n",
      "\n",
      "Output: \n",
      "Base:      $400.00\n",
      "Overtime:  $0.00\n",
      "Holiday:   $200.00\n",
      "Gross:     $600.00\n"
     ]
    }
   ],
   "source": [
    "import functions as f\n",
    "def main():\n",
    "    f.get_requirements()\n",
    "    f.calculate_payroll()\n",
    "\n",
    "if __name__ == \"__main__\":\n",
    "    main()"
   ]
  },
  {
   "cell_type": "code",
   "execution_count": 5,
   "id": "3e204b68",
   "metadata": {},
   "outputs": [
    {
     "name": "stdout",
     "output_type": "stream",
     "text": [
      "Developer: Jevon Price\n",
      "Payroll Calculator\n",
      "Program Requirements:\n",
      "1. Must use float data type for user input.\n",
      "2. Overtime rate: 1.5 times hourly rate (hours over 40).\n",
      "3. Holiday rate: 2.0 times hourly rate (all holiday hours).\n",
      "4. Must format currency with dollar sign, and round to two decimal places.\n",
      "5. Create at least three functions that are called by the program:\n",
      "\ta. main(): calls at least two other functions.\n",
      "\tb. get-requirements(): displays the program requirements.\n",
      "\tc. calculate_payroll(): calculates an individual one-week paycheck.\n",
      "\n",
      "Input: \n",
      "Enter hours worked: 50\n",
      "Enter holiday hours worked: 10\n",
      "Enter hourly pay rate: 10\n",
      "\n",
      "Output: \n",
      "Base:      $400.00\n",
      "Overtime:  $150.00\n",
      "Holiday:   $200.00\n",
      "Gross:     $750.00\n"
     ]
    }
   ],
   "source": [
    "import functions as f\n",
    "def main():\n",
    "    f.get_requirements()\n",
    "    f.calculate_payroll()\n",
    "\n",
    "if __name__ == \"__main__\":\n",
    "    main()"
   ]
  }
 ],
 "metadata": {
  "kernelspec": {
   "display_name": "Python 3 (ipykernel)",
   "language": "python",
   "name": "python3"
  },
  "language_info": {
   "codemirror_mode": {
    "name": "ipython",
    "version": 3
   },
   "file_extension": ".py",
   "mimetype": "text/x-python",
   "name": "python",
   "nbconvert_exporter": "python",
   "pygments_lexer": "ipython3",
   "version": "3.11.4"
  }
 },
 "nbformat": 4,
 "nbformat_minor": 5
}
