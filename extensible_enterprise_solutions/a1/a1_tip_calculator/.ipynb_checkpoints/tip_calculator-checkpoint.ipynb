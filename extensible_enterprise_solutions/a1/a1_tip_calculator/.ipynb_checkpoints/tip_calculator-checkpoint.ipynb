{
 "cells": [
  {
   "cell_type": "markdown",
   "id": "488c3451",
   "metadata": {},
   "source": [
    "### Tip Calculator\n",
    "\n",
    "**Developer:** Jevon Price\n",
    "\n",
    "**Course:** LIS4369\n",
    "\n",
    "**Semester:** Fall 2023\n",
    "\n",
    "**Program requirements:**\n",
    "\n",
    "    1. Must use float data type for user input except, \"Party Number\"\n",
    "    2. Must round calculations to two decimal places.\n",
    "    3. Must format currency with dollar sign and two decimal places."
   ]
  },
  {
   "cell_type": "code",
   "execution_count": 1,
   "id": "1e21314b",
   "metadata": {},
   "outputs": [
    {
     "name": "stdout",
     "output_type": "stream",
     "text": [
      "\n",
      "User Input:\n",
      "Cost of meal: 1000\n",
      "Tax percentage (Enter whole number):10\n",
      "Tip percentage (Enter whole number):10\n",
      "Number in party: 4\n"
     ]
    }
   ],
   "source": [
    "# Get user inputs and convert to correct type\n",
    "print(\"\\nUser Input:\")\n",
    "meal_cost = float(input(\"Cost of meal: \"))\n",
    "tax_percentage = float(input(\"Tax percentage (Enter whole number):\"))\n",
    "tip_percentage = float(input(\"Tip percentage (Enter whole number):\"))\n",
    "party_number = int(input(\"Number in party: \"))"
   ]
  },
  {
   "cell_type": "code",
   "execution_count": 2,
   "id": "16611e1e",
   "metadata": {},
   "outputs": [],
   "source": [
    "#Calculate Totals (tax, tip, amount)\n",
    "tax_total = round(meal_cost * (tax_percentage / 100), 2) #Coonvert to percentage\n",
    "due_amount = round(meal_cost + tax_total, 2)\n",
    "tip_amount = round((due_amount) * (tip_percentage / 100), 2)\n",
    "\n",
    "total = round(meal_cost + tax_total + tip_amount, 2)\n",
    "split = round(total/party_number, 2)"
   ]
  },
  {
   "cell_type": "code",
   "execution_count": 3,
   "id": "50996c48",
   "metadata": {},
   "outputs": [
    {
     "name": "stdout",
     "output_type": "stream",
     "text": [
      "Program output:\n",
      "Subtotal:\t $1,000.00\n",
      "Tax:\t\t $100.00\n",
      "Amount due:\t $1,100.00\n",
      "Gratuity:\t $110.00\n",
      "Total:\t\t $1,210.00\n",
      "Split:(4):\t $302.50\n"
     ]
    }
   ],
   "source": [
    "#Display results (with formatting)\n",
    "print(\"Program output:\")\n",
    "print(\"Subtotal:\\t\", \"${0:,.2f}\".format(meal_cost))\n",
    "print(\"Tax:\\t\\t\", \"${0:,.2f}\".format(tax_total))\n",
    "print(\"Amount due:\\t\", \"${0:,.2f}\".format(due_amount))\n",
    "print(\"Gratuity:\\t\", \"${0:,.2f}\".format(tip_amount))\n",
    "print(\"Total:\\t\\t\", \"${0:,.2f}\".format(total))\n",
    "print(\"Split:\" + \"(\" + str(party_number) + \"):\\t\", \"${0:,.2f}\".format(split))\n"
   ]
  }
 ],
 "metadata": {
  "kernelspec": {
   "display_name": "Python 3 (ipykernel)",
   "language": "python",
   "name": "python3"
  },
  "language_info": {
   "codemirror_mode": {
    "name": "ipython",
    "version": 3
   },
   "file_extension": ".py",
   "mimetype": "text/x-python",
   "name": "python",
   "nbconvert_exporter": "python",
   "pygments_lexer": "ipython3",
   "version": "3.11.4"
  }
 },
 "nbformat": 4,
 "nbformat_minor": 5
}
