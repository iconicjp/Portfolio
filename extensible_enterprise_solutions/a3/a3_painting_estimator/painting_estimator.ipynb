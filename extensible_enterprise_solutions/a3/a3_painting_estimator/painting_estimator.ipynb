{
 "cells": [
  {
   "cell_type": "code",
   "execution_count": 1,
   "id": "4ceff935",
   "metadata": {},
   "outputs": [],
   "source": [
    "def get_requirements():\n",
    "    \"\"\"\n",
    "    This module prints the requiremnents of the Assignment\n",
    "    \"\"\"\n",
    "    print(\"Developer: Jevon Price\")\n",
    "    print(\"Painting Estimator\")\n",
    "    print(\"Program Requirements:\\n\"\n",
    "          + \"1. Calculate home interior paint cost (w/o primer).\\n\"\n",
    "          + \"2. Must use float data types.\\n\"\n",
    "          + \"3. Must use SQFT_PER_GALLON constant (350).\\n\"\n",
    "          + \"4. Must use iteration structure (aka \"\"loop\"\").\\n\"\n",
    "          + \"5. Format, right-align numbers, and round to decimal places.\\n\"\n",
    "          + \"Create at least five functims that are called by the program: \"\n",
    "          + \"\\ta. main(): calls two other functions: get_requirements() and estimate_painting_cost().\\n\"\n",
    "          + \"\\tb. get-requirements(): displays the program requirements.\\n\"\n",
    "          + \"\\tc. estimate_painting_cost(): calculates interior home painting, and calls print functions.\\n\"\n",
    "          + \"\\td. print_painting_estimate(): displays painting costs.\\n\"\n",
    "          + \"\\te. print_painting_percentage(): displays painting costs percentages\\n\")"
   ]
  },
  {
   "cell_type": "code",
   "execution_count": 2,
   "id": "876a6f43",
   "metadata": {},
   "outputs": [],
   "source": [
    "def estimate_painting_cost():\n",
    "    \"\"\"\n",
    "    Calculates cost of painting and calls print functions\n",
    "    \"\"\"\n",
    "    #Set constants\n",
    "    SQFT_PER_GALLON = 350\n",
    "\n",
    "\n",
    "    another = True\n",
    "    while another:\n",
    "\n",
    "        #initialize variables\n",
    "        interior = ppg = painting_rate = 0.0\n",
    "        num_gallons = paint_amount = labor_amount = total_amount = 0.0\n",
    "        paint_percent = labor_percent = total_percent = 0.0\n",
    "\n",
    "        #Get user inputs\n",
    "        print(\"Input: \")\n",
    "\n",
    "        interior = float(input(\"Enter total interior sq ft: \"))\n",
    "        ppg = float(input(\"Enter price per gallon paint: \"))\n",
    "        painting_rate = float(input(\"Enter hourly painting rate per sq ft: \"))\n",
    "\n",
    "        #Calculations\n",
    "        num_gallons = interior / SQFT_PER_GALLON\n",
    "\n",
    "        paint_amount = ppg * num_gallons\n",
    "        labor_amount = painting_rate * interior\n",
    "        total_amount = paint_amount + labor_amount\n",
    "\n",
    "        paint_percent = paint_amount / total_amount\n",
    "        labor_percent = labor_amount / total_amount\n",
    "        total_percent = total_amount / total_amount\n",
    "\n",
    "\n",
    "        print(\"\\nOutput: \")\n",
    "        print_painting_estimate(interior, ppg, painting_rate, SQFT_PER_GALLON, num_gallons)\n",
    "        print_painting_percentage(paint_amount, labor_amount, total_amount, paint_percent, labor_percent, total_percent)\n",
    "\n",
    "        response = input(\"Estimate another paint job? (y/n): \")\n",
    "        if response == 'y':\n",
    "            another = True\n",
    "        elif response == 'n':\n",
    "            another = False\n",
    "        else:\n",
    "            while response != 'y' and response != 'n':\n",
    "                print(\"Invalid response please type a 'y' or 'n'.\\n\\n\")\n",
    "                response = input(\"Estimate another paint job? (y/n): \")\n",
    "\n",
    "    print(\"Thank you for using our Painting Estimator!\")\n",
    "    print(\"Please see our web site: http://www.LIS4369.com\")"
   ]
  },
  {
   "cell_type": "code",
   "execution_count": 3,
   "id": "fdc0cfe4",
   "metadata": {},
   "outputs": [],
   "source": [
    "def print_painting_estimate(interior_total, price_pg_paint, paint_rate, SQFT_PER_GALLON, gallon_num):\n",
    "    \"\"\"\n",
    "    Prints painting estimates\n",
    "    \"\"\"\n",
    "    print(f\"{'Item':25}{'Amount':>9}\")\n",
    "    print(f\"{'Total Sq Ft:':25}{interior_total:>9,.2f}\")\n",
    "    print(f\"{'Sq Ft per Gallon:':25}{SQFT_PER_GALLON:>9.2f}\")\n",
    "    print(f\"{'Number of Gallons:':25}{gallon_num:>9.2f}\")\n",
    "    print(f\"{'Paint per Gallon:':25}${price_pg_paint:>8.2f}\")\n",
    "    print(f\"{'Labor per Sq Ft:':25}${paint_rate:>8.2f}\\n\")"
   ]
  },
  {
   "cell_type": "code",
   "execution_count": 4,
   "id": "ed9ca563",
   "metadata": {},
   "outputs": [],
   "source": [
    "def print_painting_percentage(p_amount, l_amount, t_amount, p_percent, l_percent, t_percent):\n",
    "    \"\"\"\n",
    "    Prints painting cost percentage\n",
    "    \"\"\"\n",
    "    print(f\"{'Cost':9}{'Amount':>10}{'Percentage':>15}\")\n",
    "    print(f\"{'Paint:':9}${p_amount:>9.2f}{p_percent:>16.2%}\")\n",
    "    print(f\"{'Labor:':9}${l_amount:>9.2f}{l_percent:>16.2%}\")\n",
    "    print(f\"{'Total:':9}${t_amount:>9.2f}{t_percent:>16.2%}\\n\")"
   ]
  },
  {
   "cell_type": "code",
   "execution_count": null,
   "id": "7e8f39dc",
   "metadata": {},
   "outputs": [
    {
     "name": "stdout",
     "output_type": "stream",
     "text": [
      "Developer: Jevon Price\n",
      "Painting Estimator\n",
      "Program Requirements:\n",
      "1. Calculate home interior paint cost (w/o primer).\n",
      "2. Must use float data types.\n",
      "3. Must use SQFT_PER_GALLON constant (350).\n",
      "4. Must use iteration structure (aka loop).\n",
      "5. Format, right-align numbers, and round to decimal places.\n",
      "Create at least five functims that are called by the program: \ta. main(): calls two other functions: get_requirements() and estimate_painting_cost().\n",
      "\tb. get-requirements(): displays the program requirements.\n",
      "\tc. estimate_painting_cost(): calculates interior home painting, and calls print functions.\n",
      "\td. print_painting_estimate(): displays painting costs.\n",
      "\te. print_painting_percentage(): displays painting costs percentages\n",
      "\n",
      "Input: \n"
     ]
    }
   ],
   "source": [
    "import functions as f\n",
    "def main():\n",
    "    f.get_requirements()\n",
    "    f.estimate_painting_cost()\n",
    "\n",
    "if __name__ == \"__main__\":\n",
    "    main()"
   ]
  },
  {
   "cell_type": "code",
   "execution_count": null,
   "id": "c1e489fe",
   "metadata": {},
   "outputs": [],
   "source": []
  }
 ],
 "metadata": {
  "kernelspec": {
   "display_name": "Python 3 (ipykernel)",
   "language": "python",
   "name": "python3"
  },
  "language_info": {
   "codemirror_mode": {
    "name": "ipython",
    "version": 3
   },
   "file_extension": ".py",
   "mimetype": "text/x-python",
   "name": "python",
   "nbconvert_exporter": "python",
   "pygments_lexer": "ipython3",
   "version": "3.11.4"
  }
 },
 "nbformat": 4,
 "nbformat_minor": 5
}
